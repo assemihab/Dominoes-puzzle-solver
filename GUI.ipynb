{
 "cells": [
  {
   "cell_type": "code",
   "execution_count": 1,
   "metadata": {},
   "outputs": [
    {
     "name": "stdout",
     "output_type": "stream",
     "text": [
      "Requirement already satisfied: pyswip in e:\\programs\\anaconda\\lib\\site-packages (0.2.10)\n"
     ]
    }
   ],
   "source": [
    "# !pip install pyswip"
   ]
  },
  {
   "cell_type": "code",
   "execution_count": 1,
   "metadata": {},
   "outputs": [],
   "source": [
    "from pyswip import Prolog\n",
    "import tkinter as tk\n",
    "import numpy as np\n",
    "from PIL import Image, ImageTk"
   ]
  },
  {
   "cell_type": "code",
   "execution_count": 2,
   "metadata": {},
   "outputs": [],
   "source": [
    "# from pyswip import rolog\n",
    "prolog = Prolog()\n",
    "\n",
    "images = []\n",
    "for i in range(6):\n",
    "        filename = f\"{i}.jpg\" \n",
    "        img = Image.open(filename)\n",
    "        img = img.resize((50, 50))\n",
    "        images.append(img)"
   ]
  },
  {
   "cell_type": "code",
   "execution_count": 3,
   "metadata": {},
   "outputs": [],
   "source": [
    "def submit_input():\n",
    "\n",
    "    dims = dimensions.get()\n",
    "    pos1=position1.get()\n",
    "    pos2=position2.get()\n",
    "    file = str(selected_option.get())\n",
    "\n",
    "    prolog.consult(file)\n",
    "\n",
    "    query='algorithm({}, [{}, {}], GoalsList).'.format(dims, pos1, pos2)\n",
    "    result = list(prolog.query(query))\n",
    "    #root\n",
    "    RResult=result[0]\n",
    "    RRResult=RResult['GoalsList']\n",
    "    data=RRResult\n",
    "    print(data)\n",
    "    result_window = tk.Toplevel(root)\n",
    "    result_window.title(\"Result\")\n",
    "    result_window.geometry(\"700x400\")\n",
    "\n",
    "    canvas = tk.Canvas(result_window)\n",
    "    #specifying the postion of the canvan\n",
    "    canvas.pack(side=tk.LEFT, fill=tk.BOTH, expand=1)\n",
    "\n",
    "    #add frame to canvas \n",
    "    frame = tk.Frame(canvas)\n",
    "    canvas.create_window((0,0), window=frame,anchor=\"nw\")\n",
    "\n",
    "    yscrollbar = tk.Scrollbar(result_window, orient=tk.VERTICAL, command=canvas.yview)\n",
    "    yscrollbar.pack(side=tk.RIGHT, fill=tk.Y)\n",
    "    #this line associate the canvas with scroll bar\n",
    "    canvas.configure(yscrollcommand=yscrollbar.set)\n",
    "\n",
    "    count=0\n",
    "    JJ=0\n",
    "    ii=0\n",
    "    for i, matrix in enumerate(data):\n",
    "        if(count%3==0):\n",
    "            JJ+=1\n",
    "            ii=1\n",
    "        subframe = tk.Frame(frame, borderwidth=20, relief='raised')\n",
    "        subframe.grid(row=JJ, column=ii, padx=30, pady=30)\n",
    "\n",
    "        for i in range( len(matrix)):\n",
    "            for j in range(len(matrix[i])):\n",
    "\n",
    "                label = tk.Label(subframe, image=imagess[matrix[i][j]], borderwidth=1, relief='solid')\n",
    "                label.grid(row=i,column=j,padx=0,pady=0)\n",
    "\n",
    "        count=count+1\n",
    "        ii+=1\n",
    "\n",
    "    #this line ensures that all elements should be initialized to use the scrollbar\n",
    "    frame.update_idletasks()\n",
    "    canvas.config(scrollregion=canvas.bbox('all'))\n",
    "\n",
    "root = tk.Tk()\n",
    "root.title(\"Input\")\n",
    "root.geometry(\"500x300\")\n",
    "imagess=[]\n",
    "for i in range(6):\n",
    "        imagess.append(ImageTk.PhotoImage(images[i]))\n",
    "\n",
    "dimensions_labels = tk.Label(root, text=\"Enter the dimensions in e.g(3,4):\")\n",
    "dimensions_labels.pack(side=tk.TOP, anchor=tk.NW)\n",
    "dimensions = tk.Entry(root)\n",
    "dimensions.pack(side=tk.TOP, anchor=tk.NW)\n",
    "position1Lable=tk.Label(root, text=\"Enter the position of the first bomb in e.g(1,3):\")\n",
    "position1Lable.pack(side=tk.TOP, anchor=tk.NW)\n",
    "position1=tk.Entry(root)\n",
    "position1.pack(side=tk.TOP,anchor=tk.NW)\n",
    "position2Lable=tk.Label(root, text=\"Enter the position of the second bomb in e.g(2,1):\")\n",
    "position2Lable.pack(side=tk.TOP, anchor=tk.NW)\n",
    "position2=tk.Entry(root)\n",
    "position2.pack(side=tk.TOP,anchor=tk.NW)\n",
    "\n",
    "position3Lable=tk.Label(root, text=\"choose the algorithm from the drop down: \")\n",
    "position3Lable.pack(side=tk.TOP, anchor=tk.NW)\n",
    "\n",
    "selected_option = tk.StringVar(root)\n",
    "dropdown = tk.OptionMenu(root, selected_option, \"Informed\", \"Uninformed\")\n",
    "dropdown.pack(side=tk.TOP, anchor=tk.NW)\n",
    "\n",
    "\n",
    "submit_button = tk.Button(root, text=\"Submit\", command=submit_input)\n",
    "submit_button.pack()\n",
    "\n",
    "root.mainloop()"
   ]
  },
  {
   "cell_type": "code",
   "execution_count": null,
   "metadata": {},
   "outputs": [],
   "source": []
  }
 ],
 "metadata": {
  "kernelspec": {
   "display_name": "Python 3",
   "language": "python",
   "name": "python3"
  },
  "language_info": {
   "codemirror_mode": {
    "name": "ipython",
    "version": 3
   },
   "file_extension": ".py",
   "mimetype": "text/x-python",
   "name": "python",
   "nbconvert_exporter": "python",
   "pygments_lexer": "ipython3",
   "version": "3.11.5"
  },
  "orig_nbformat": 4
 },
 "nbformat": 4,
 "nbformat_minor": 2
}
